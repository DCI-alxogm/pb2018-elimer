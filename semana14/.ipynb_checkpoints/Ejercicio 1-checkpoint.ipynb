{
 "cells": [
  {
   "cell_type": "code",
   "execution_count": 1,
   "metadata": {},
   "outputs": [],
   "source": [
    "import numpy as np\n",
    "import matplotlib.pyplot as plt\n",
    "%matplotlib inline     \n",
    "#para activar los graficos en el notebook \n"
   ]
  },
  {
   "cell_type": "code",
   "execution_count": 82,
   "metadata": {},
   "outputs": [],
   "source": [
    "h=0.00033\n",
    "#tiempo total=1 min\n",
    "#-w**2*theta=f1\n",
    "#v=f2\n",
    "theta=np.zeros(1000)\n",
    "theta[0]=10\n",
    "i=np.arange(0,1000,h)\n",
    "w=20\n",
    "v=np.zeros(1000)\n"
   ]
  },
  {
   "cell_type": "code",
   "execution_count": 83,
   "metadata": {},
   "outputs": [
    {
     "name": "stdout",
     "output_type": "stream",
     "text": [
      "[0.0000000e+00 3.3000000e-04 6.6000000e-04 ... 9.9999933e+02 9.9999966e+02\n",
      " 9.9999999e+02]\n"
     ]
    }
   ],
   "source": [
    "print (i)"
   ]
  },
  {
   "cell_type": "code",
   "execution_count": 84,
   "metadata": {},
   "outputs": [
    {
     "name": "stdout",
     "output_type": "stream",
     "text": [
      "[10.  0.  0.  0.  0.  0.  0.  0.  0.  0.  0.  0.  0.  0.  0.  0.  0.  0.\n",
      "  0.  0.  0.  0.  0.  0.  0.  0.  0.  0.  0.  0.  0.  0.  0.  0.  0.  0.\n",
      "  0.  0.  0.  0.  0.  0.  0.  0.  0.  0.  0.  0.  0.  0.  0.  0.  0.  0.\n",
      "  0.  0.  0.  0.  0.  0.  0.  0.  0.  0.  0.  0.  0.  0.  0.  0.  0.  0.\n",
      "  0.  0.  0.  0.  0.  0.  0.  0.  0.  0.  0.  0.  0.  0.  0.  0.  0.  0.\n",
      "  0.  0.  0.  0.  0.  0.  0.  0.  0.  0.  0.  0.  0.  0.  0.  0.  0.  0.\n",
      "  0.  0.  0.  0.  0.  0.  0.  0.  0.  0.  0.  0.  0.  0.  0.  0.  0.  0.\n",
      "  0.  0.  0.  0.  0.  0.  0.  0.  0.  0.  0.  0.  0.  0.  0.  0.  0.  0.\n",
      "  0.  0.  0.  0.  0.  0.  0.  0.  0.  0.  0.  0.  0.  0.  0.  0.  0.  0.\n",
      "  0.  0.  0.  0.  0.  0.  0.  0.  0.  0.  0.  0.  0.  0.  0.  0.  0.  0.\n",
      "  0.  0.  0.  0.  0.  0.  0.  0.  0.  0.  0.  0.  0.  0.  0.  0.  0.  0.\n",
      "  0.  0.  0.  0.  0.  0.  0.  0.  0.  0.  0.  0.  0.  0.  0.  0.  0.  0.\n",
      "  0.  0.  0.  0.  0.  0.  0.  0.  0.  0.  0.  0.  0.  0.  0.  0.  0.  0.\n",
      "  0.  0.  0.  0.  0.  0.  0.  0.  0.  0.  0.  0.  0.  0.  0.  0.  0.  0.\n",
      "  0.  0.  0.  0.  0.  0.  0.  0.  0.  0.  0.  0.  0.  0.  0.  0.  0.  0.\n",
      "  0.  0.  0.  0.  0.  0.  0.  0.  0.  0.  0.  0.  0.  0.  0.  0.  0.  0.\n",
      "  0.  0.  0.  0.  0.  0.  0.  0.  0.  0.  0.  0.  0.  0.  0.  0.  0.  0.\n",
      "  0.  0.  0.  0.  0.  0.  0.  0.  0.  0.  0.  0.  0.  0.  0.  0.  0.  0.\n",
      "  0.  0.  0.  0.  0.  0.  0.  0.  0.  0.  0.  0.  0.  0.  0.  0.  0.  0.\n",
      "  0.  0.  0.  0.  0.  0.  0.  0.  0.  0.  0.  0.  0.  0.  0.  0.  0.  0.\n",
      "  0.  0.  0.  0.  0.  0.  0.  0.  0.  0.  0.  0.  0.  0.  0.  0.  0.  0.\n",
      "  0.  0.  0.  0.  0.  0.  0.  0.  0.  0.  0.  0.  0.  0.  0.  0.  0.  0.\n",
      "  0.  0.  0.  0.  0.  0.  0.  0.  0.  0.  0.  0.  0.  0.  0.  0.  0.  0.\n",
      "  0.  0.  0.  0.  0.  0.  0.  0.  0.  0.  0.  0.  0.  0.  0.  0.  0.  0.\n",
      "  0.  0.  0.  0.  0.  0.  0.  0.  0.  0.  0.  0.  0.  0.  0.  0.  0.  0.\n",
      "  0.  0.  0.  0.  0.  0.  0.  0.  0.  0.  0.  0.  0.  0.  0.  0.  0.  0.\n",
      "  0.  0.  0.  0.  0.  0.  0.  0.  0.  0.  0.  0.  0.  0.  0.  0.  0.  0.\n",
      "  0.  0.  0.  0.  0.  0.  0.  0.  0.  0.  0.  0.  0.  0.  0.  0.  0.  0.\n",
      "  0.  0.  0.  0.  0.  0.  0.  0.  0.  0.  0.  0.  0.  0.  0.  0.  0.  0.\n",
      "  0.  0.  0.  0.  0.  0.  0.  0.  0.  0.  0.  0.  0.  0.  0.  0.  0.  0.\n",
      "  0.  0.  0.  0.  0.  0.  0.  0.  0.  0.  0.  0.  0.  0.  0.  0.  0.  0.\n",
      "  0.  0.  0.  0.  0.  0.  0.  0.  0.  0.  0.  0.  0.  0.  0.  0.  0.  0.\n",
      "  0.  0.  0.  0.  0.  0.  0.  0.  0.  0.  0.  0.  0.  0.  0.  0.  0.  0.\n",
      "  0.  0.  0.  0.  0.  0.  0.  0.  0.  0.  0.  0.  0.  0.  0.  0.  0.  0.\n",
      "  0.  0.  0.  0.  0.  0.  0.  0.  0.  0.  0.  0.  0.  0.  0.  0.  0.  0.\n",
      "  0.  0.  0.  0.  0.  0.  0.  0.  0.  0.  0.  0.  0.  0.  0.  0.  0.  0.\n",
      "  0.  0.  0.  0.  0.  0.  0.  0.  0.  0.  0.  0.  0.  0.  0.  0.  0.  0.\n",
      "  0.  0.  0.  0.  0.  0.  0.  0.  0.  0.  0.  0.  0.  0.  0.  0.  0.  0.\n",
      "  0.  0.  0.  0.  0.  0.  0.  0.  0.  0.  0.  0.  0.  0.  0.  0.  0.  0.\n",
      "  0.  0.  0.  0.  0.  0.  0.  0.  0.  0.  0.  0.  0.  0.  0.  0.  0.  0.\n",
      "  0.  0.  0.  0.  0.  0.  0.  0.  0.  0.  0.  0.  0.  0.  0.  0.  0.  0.\n",
      "  0.  0.  0.  0.  0.  0.  0.  0.  0.  0.  0.  0.  0.  0.  0.  0.  0.  0.\n",
      "  0.  0.  0.  0.  0.  0.  0.  0.  0.  0.  0.  0.  0.  0.  0.  0.  0.  0.\n",
      "  0.  0.  0.  0.  0.  0.  0.  0.  0.  0.  0.  0.  0.  0.  0.  0.  0.  0.\n",
      "  0.  0.  0.  0.  0.  0.  0.  0.  0.  0.  0.  0.  0.  0.  0.  0.  0.  0.\n",
      "  0.  0.  0.  0.  0.  0.  0.  0.  0.  0.  0.  0.  0.  0.  0.  0.  0.  0.\n",
      "  0.  0.  0.  0.  0.  0.  0.  0.  0.  0.  0.  0.  0.  0.  0.  0.  0.  0.\n",
      "  0.  0.  0.  0.  0.  0.  0.  0.  0.  0.  0.  0.  0.  0.  0.  0.  0.  0.\n",
      "  0.  0.  0.  0.  0.  0.  0.  0.  0.  0.  0.  0.  0.  0.  0.  0.  0.  0.\n",
      "  0.  0.  0.  0.  0.  0.  0.  0.  0.  0.  0.  0.  0.  0.  0.  0.  0.  0.\n",
      "  0.  0.  0.  0.  0.  0.  0.  0.  0.  0.  0.  0.  0.  0.  0.  0.  0.  0.\n",
      "  0.  0.  0.  0.  0.  0.  0.  0.  0.  0.  0.  0.  0.  0.  0.  0.  0.  0.\n",
      "  0.  0.  0.  0.  0.  0.  0.  0.  0.  0.  0.  0.  0.  0.  0.  0.  0.  0.\n",
      "  0.  0.  0.  0.  0.  0.  0.  0.  0.  0.  0.  0.  0.  0.  0.  0.  0.  0.\n",
      "  0.  0.  0.  0.  0.  0.  0.  0.  0.  0.  0.  0.  0.  0.  0.  0.  0.  0.\n",
      "  0.  0.  0.  0.  0.  0.  0.  0.  0.  0.]\n"
     ]
    }
   ],
   "source": [
    "print (theta)"
   ]
  },
  {
   "cell_type": "code",
   "execution_count": 85,
   "metadata": {},
   "outputs": [],
   "source": [
    "for i in range(0,999,1):\n",
    "    theta[i+1]=theta[i]+h*v[i]\n",
    "    v[i+1]=v[i]+h*(-w**2*theta[i])\n",
    "     "
   ]
  },
  {
   "cell_type": "code",
   "execution_count": 86,
   "metadata": {},
   "outputs": [
    {
     "data": {
      "text/plain": [
       "Text(0,0.5,'theta')"
      ]
     },
     "execution_count": 86,
     "metadata": {},
     "output_type": "execute_result"
    },
    {
     "data": {
      "image/png": "[encoded data removed]",
      "text/plain": [
       "<Figure size 432x288 with 1 Axes>"
      ]
     },
     "metadata": {
      "needs_background": "light"
     },
     "output_type": "display_data"
    }
   ],
   "source": [
    "plt.plot(v,theta)\n",
    "plt.xlabel(\"velocidad\")\n",
    "plt.ylabel(\"theta\")\n",
    "        \n",
    "    "
   ]
  },
  {
   "cell_type": "code",
   "execution_count": 97,
   "metadata": {},
   "outputs": [
    {
     "data": {
      "text/plain": [
       "[<matplotlib.lines.Line2D at 0xcbae860>]"
      ]
     },
     "execution_count": 97,
     "metadata": {},
     "output_type": "execute_result"
    },
    {
     "data": {
      "image/png": "[encoded data removed]",
      "text/plain": [
       "<Figure size 432x288 with 1 Axes>"
      ]
     },
     "metadata": {
      "needs_background": "light"
     },
     "output_type": "display_data"
    }
   ],
   "source": [
    "plt.plot(v,'red')\n",
    "plt.xlabel(\"velocidad\")"
   ]
  },
  {
   "cell_type": "code",
   "execution_count": 99,
   "metadata": {},
   "outputs": [
    {
     "data": {
      "text/plain": [
       "Text(0.5,0,'theta')"
      ]
     },
     "execution_count": 99,
     "metadata": {},
     "output_type": "execute_result"
    },
    {
     "data": {
      "image/png": "[encoded data removed]",
      "text/plain": [
       "<Figure size 432x288 with 1 Axes>"
      ]
     },
     "metadata": {
      "needs_background": "light"
     },
     "output_type": "display_data"
    }
   ],
   "source": [
    "plt.plot(theta,'green')\n",
    "plt.xlabel('theta')"
   ]
  },
  {
   "cell_type": "code",
   "execution_count": null,
   "metadata": {},
   "outputs": [],
   "source": [
    "print (v)"
   ]
  },
  {
   "cell_type": "code",
   "execution_count": 91,
   "metadata": {},
   "outputs": [
    {
     "name": "stdout",
     "output_type": "stream",
     "text": [
      "[ 1.00000000e+01  1.00000000e+01  9.99956440e+00  9.99869320e+00\n",
      "  9.99738642e+00  9.99564409e+00  9.99346628e+00  9.99085306e+00\n",
      "  9.98780453e+00  9.98432079e+00  9.98040198e+00  9.97604826e+00\n",
      "  9.97125979e+00  9.96603677e+00  9.96037939e+00  9.95428790e+00\n",
      "  9.94776253e+00  9.94080355e+00  9.93341125e+00  9.92558592e+00\n",
      "  9.91732790e+00  9.90863752e+00  9.89951514e+00  9.88996114e+00\n",
      "  9.87997591e+00  9.86955988e+00  9.85871348e+00  9.84743716e+00\n",
      "  9.83573140e+00  9.82359668e+00  9.81103351e+00  9.79804243e+00\n",
      "  9.78462398e+00  9.77077873e+00  9.75650726e+00  9.74181018e+00\n",
      "  9.72668810e+00  9.71114167e+00  9.69517154e+00  9.67877840e+00\n",
      "  9.66196293e+00  9.64472586e+00  9.62706791e+00  9.60898984e+00\n",
      "  9.59049241e+00  9.57157642e+00  9.55224266e+00  9.53249197e+00\n",
      "  9.51232517e+00  9.49174315e+00  9.47074677e+00  9.44933692e+00\n",
      "  9.42751454e+00  9.40528053e+00  9.38263587e+00  9.35958151e+00\n",
      "  9.33611845e+00  9.31224768e+00  9.28797023e+00  9.26328713e+00\n",
      "  9.23819946e+00  9.21270827e+00  9.18681467e+00  9.16051977e+00\n",
      "  9.13382468e+00  9.10673057e+00  9.07923858e+00  9.05134991e+00\n",
      "  9.02306574e+00  8.99438730e+00  8.96531581e+00  8.93585252e+00\n",
      "  8.90599871e+00  8.87575565e+00  8.84512465e+00  8.81410702e+00\n",
      "  8.78270409e+00  8.75091722e+00  8.71874778e+00  8.68619715e+00\n",
      "  8.65326673e+00  8.61995794e+00  8.58627221e+00  8.55221100e+00\n",
      "  8.51777576e+00  8.48296800e+00  8.44778920e+00  8.41224088e+00\n",
      "  8.37632458e+00  8.34004184e+00  8.30339422e+00  8.26638332e+00\n",
      "  8.22901071e+00  8.19127803e+00  8.15318689e+00  8.11473893e+00\n",
      "  8.07593583e+00  8.03677924e+00  7.99727087e+00  7.95741242e+00\n",
      "  7.91720560e+00  7.87665216e+00  7.83575385e+00  7.79451243e+00\n",
      "  7.75292968e+00  7.71100741e+00  7.66874742e+00  7.62615153e+00\n",
      "  7.58322160e+00  7.53995947e+00  7.49636701e+00  7.45244612e+00\n",
      "  7.40819868e+00  7.36362662e+00  7.31873185e+00  7.27351632e+00\n",
      "  7.22798199e+00  7.18213083e+00  7.13596481e+00  7.08948594e+00\n",
      "  7.04269623e+00  6.99559770e+00  6.94819239e+00  6.90048235e+00\n",
      "  6.85246965e+00  6.80415636e+00  6.75554459e+00  6.70663642e+00\n",
      "  6.65743398e+00  6.60793939e+00  6.55815481e+00  6.50808239e+00\n",
      "  6.45772430e+00  6.40708271e+00  6.35615983e+00  6.30495785e+00\n",
      "  6.25347900e+00  6.20172550e+00  6.14969961e+00  6.09740356e+00\n",
      "  6.04483964e+00  5.99201011e+00  5.93891727e+00  5.88556341e+00\n",
      "  5.83195086e+00  5.77808193e+00  5.72395896e+00  5.66958430e+00\n",
      "  5.61496031e+00  5.56008934e+00  5.50497379e+00  5.44961604e+00\n",
      "  5.39401850e+00  5.33818357e+00  5.28211367e+00  5.22581125e+00\n",
      "  5.16927873e+00  5.11251858e+00  5.05553326e+00  4.99832523e+00\n",
      "  4.94089699e+00  4.88325102e+00  4.82538982e+00  4.76731591e+00\n",
      "  4.70903180e+00  4.65054003e+00  4.59184314e+00  4.53294366e+00\n",
      "  4.47384417e+00  4.41454722e+00  4.35505539e+00  4.29537126e+00\n",
      "  4.23549743e+00  4.17543649e+00  4.11519105e+00  4.05476373e+00\n",
      "  3.99415716e+00  3.93337395e+00  3.87241677e+00  3.81128824e+00\n",
      "  3.74999103e+00  3.68852780e+00  3.62690122e+00  3.56511397e+00\n",
      "  3.50316874e+00  3.44106820e+00  3.37881507e+00  3.31641204e+00\n",
      "  3.25386184e+00  3.19116717e+00  3.12833076e+00  3.06535534e+00\n",
      "  3.00224366e+00  2.93899845e+00  2.87562246e+00  2.81211844e+00\n",
      "  2.74848917e+00  2.68473740e+00  2.62086590e+00  2.55687746e+00\n",
      "  2.49277486e+00  2.42856087e+00  2.36423830e+00  2.29980994e+00\n",
      "  2.23527860e+00  2.17064708e+00  2.10591818e+00  2.04109474e+00\n",
      "  1.97617956e+00  1.91117547e+00  1.84608530e+00  1.78091187e+00\n",
      "  1.71565803e+00  1.65032662e+00  1.58492047e+00  1.51944243e+00\n",
      "  1.45389536e+00  1.38828209e+00  1.32260550e+00  1.25686843e+00\n",
      "  1.19107375e+00  1.12522432e+00  1.05932301e+00  9.93372677e-01\n",
      "  9.27376205e-01  8.61336461e-01  7.95256321e-01  7.29138661e-01\n",
      "  6.62986360e-01  5.96802297e-01  5.30589354e-01  4.64350415e-01\n",
      "  3.98088364e-01  3.31806085e-01  2.65506466e-01  1.99192393e-01\n",
      "  1.32866755e-01  6.65324394e-02  1.92336550e-04 -6.61506644e-02\n",
      " -1.32493674e-01 -1.98833802e-01 -2.65168158e-01 -3.31493853e-01\n",
      " -3.97807998e-01 -4.64107702e-01 -5.30390078e-01 -5.96652238e-01\n",
      " -6.62891294e-01 -7.29104359e-01 -7.95288550e-01 -8.61440980e-01\n",
      " -9.27558767e-01 -9.93639030e-01 -1.05967889e+00 -1.12567546e+00\n",
      " -1.19162588e+00 -1.25752726e+00 -1.32337674e+00 -1.38917143e+00\n",
      " -1.45490848e+00 -1.52058502e+00 -1.58619818e+00 -1.65174511e+00\n",
      " -1.71722294e+00 -1.78262882e+00 -1.84795990e+00 -1.91321333e+00\n",
      " -1.97838626e+00 -2.04347585e+00 -2.10847926e+00 -2.17339366e+00\n",
      " -2.23821621e+00 -2.30294409e+00 -2.36757447e+00 -2.43210454e+00\n",
      " -2.49653148e+00 -2.56085247e+00 -2.62506471e+00 -2.68916541e+00\n",
      " -2.75315175e+00 -2.81702096e+00 -2.88077023e+00 -2.94439680e+00\n",
      " -3.00789788e+00 -3.07127071e+00 -3.13451251e+00 -3.19762052e+00\n",
      " -3.26059200e+00 -3.32342419e+00 -3.38611435e+00 -3.44865973e+00\n",
      " -3.51105762e+00 -3.57330529e+00 -3.63540001e+00 -3.69733908e+00\n",
      " -3.75911980e+00 -3.82073945e+00 -3.88219536e+00 -3.94348484e+00\n",
      " -4.00460521e+00 -4.06555380e+00 -4.12632795e+00 -4.18692501e+00\n",
      " -4.24734232e+00 -4.30757725e+00 -4.36762716e+00 -4.42748944e+00\n",
      " -4.48716146e+00 -4.54664063e+00 -4.60592433e+00 -4.66500998e+00\n",
      " -4.72389499e+00 -4.78257680e+00 -4.84105284e+00 -4.89932054e+00\n",
      " -4.95737737e+00 -5.01522079e+00 -5.07284826e+00 -5.13025727e+00\n",
      " -5.18744530e+00 -5.24440987e+00 -5.30114846e+00 -5.35765861e+00\n",
      " -5.41393785e+00 -5.46998370e+00 -5.52579372e+00 -5.58136547e+00\n",
      " -5.63669651e+00 -5.69178443e+00 -5.74662682e+00 -5.80122127e+00\n",
      " -5.85556540e+00 -5.90965683e+00 -5.96349319e+00 -6.01707212e+00\n",
      " -6.07039129e+00 -6.12344835e+00 -6.17624099e+00 -6.22876688e+00\n",
      " -6.28102375e+00 -6.33300928e+00 -6.38472122e+00 -6.43615728e+00\n",
      " -6.48731523e+00 -6.53819283e+00 -6.58878783e+00 -6.63909803e+00\n",
      " -6.68912122e+00 -6.73885521e+00 -6.78829783e+00 -6.83744690e+00\n",
      " -6.88630027e+00 -6.93485580e+00 -6.98311137e+00 -7.03106485e+00\n",
      " -7.07871415e+00 -7.12605718e+00 -7.17309186e+00 -7.21981612e+00\n",
      " -7.26622793e+00 -7.31232524e+00 -7.35810603e+00 -7.40356830e+00\n",
      " -7.44871005e+00 -7.49352930e+00 -7.53802409e+00 -7.58219246e+00\n",
      " -7.62603247e+00 -7.66954220e+00 -7.71271974e+00 -7.75556319e+00\n",
      " -7.79807068e+00 -7.84024034e+00 -7.88207031e+00 -7.92355876e+00\n",
      " -7.96470387e+00 -8.00550383e+00 -8.04595685e+00 -8.08606114e+00\n",
      " -8.12581496e+00 -8.16521654e+00 -8.20426417e+00 -8.24295612e+00\n",
      " -8.28129069e+00 -8.31926619e+00 -8.35688097e+00 -8.39413335e+00\n",
      " -8.43102172e+00 -8.46754443e+00 -8.50369989e+00 -8.53948650e+00\n",
      " -8.57490269e+00 -8.60994690e+00 -8.64461759e+00 -8.67891322e+00\n",
      " -8.71283230e+00 -8.74637333e+00 -8.77953482e+00 -8.81231532e+00\n",
      " -8.84471339e+00 -8.87672759e+00 -8.90835652e+00 -8.93959877e+00\n",
      " -8.97045298e+00 -9.00091778e+00 -9.03099182e+00 -9.06067379e+00\n",
      " -9.08996236e+00 -9.11885625e+00 -9.14735419e+00 -9.17545490e+00\n",
      " -9.20315716e+00 -9.23045974e+00 -9.25736142e+00 -9.28386103e+00\n",
      " -9.30995738e+00 -9.33564933e+00 -9.36093574e+00 -9.38581549e+00\n",
      " -9.41028748e+00 -9.43435062e+00 -9.45800384e+00 -9.48124611e+00\n",
      " -9.50407639e+00 -9.52649366e+00 -9.54849694e+00 -9.57008524e+00\n",
      " -9.59125761e+00 -9.61201310e+00 -9.63235081e+00 -9.65226981e+00\n",
      " -9.67176922e+00 -9.69084819e+00 -9.70950585e+00 -9.72774138e+00\n",
      " -9.74555396e+00 -9.76294280e+00 -9.77990713e+00 -9.79644618e+00\n",
      " -9.81255922e+00 -9.82824552e+00 -9.84350439e+00 -9.85833514e+00\n",
      " -9.87273711e+00 -9.88670965e+00 -9.90025214e+00 -9.91336396e+00\n",
      " -9.92604452e+00 -9.93829326e+00 -9.95010962e+00 -9.96149306e+00\n",
      " -9.97244308e+00 -9.98295918e+00 -9.99304088e+00 -1.00026877e+01\n",
      " -1.00118993e+01 -1.00206751e+01 -1.00290148e+01 -1.00369180e+01\n",
      " -1.00443843e+01 -1.00514135e+01 -1.00580051e+01 -1.00641588e+01\n",
      " -1.00698745e+01 -1.00751517e+01 -1.00799903e+01 -1.00843900e+01\n",
      " -1.00883507e+01 -1.00918720e+01 -1.00949540e+01 -1.00975963e+01\n",
      " -1.00997988e+01 -1.01015616e+01 -1.01028843e+01 -1.01037671e+01\n",
      " -1.01042098e+01 -1.01042123e+01 -1.01037747e+01 -1.01028970e+01\n",
      " -1.01015792e+01 -1.00998212e+01 -1.00976233e+01 -1.00949854e+01\n",
      " -1.00919076e+01 -1.00883901e+01 -1.00844330e+01 -1.00800365e+01\n",
      " -1.00752007e+01 -1.00699258e+01 -1.00642120e+01 -1.00580595e+01\n",
      " -1.00514687e+01 -1.00444397e+01 -1.00369729e+01 -1.00290686e+01\n",
      " -1.00207271e+01 -1.00119487e+01 -1.00027337e+01 -9.99308270e+00\n",
      " -9.98299595e+00 -9.97247389e+00 -9.96151698e+00 -9.95012566e+00\n",
      " -9.93830043e+00 -9.92604176e+00 -9.91335018e+00 -9.90022623e+00\n",
      " -9.88667044e+00 -9.87268341e+00 -9.85826571e+00 -9.84341796e+00\n",
      " -9.82814078e+00 -9.81243482e+00 -9.79630075e+00 -9.77973925e+00\n",
      " -9.76275102e+00 -9.74533678e+00 -9.72749728e+00 -9.70923328e+00\n",
      " -9.69054554e+00 -9.67143487e+00 -9.65190208e+00 -9.63194800e+00\n",
      " -9.61157349e+00 -9.59077940e+00 -9.56956664e+00 -9.54793610e+00\n",
      " -9.52588871e+00 -9.50342542e+00 -9.48054718e+00 -9.45725496e+00\n",
      " -9.43354978e+00 -9.40943263e+00 -9.38490457e+00 -9.35996662e+00\n",
      " -9.33461987e+00 -9.30886540e+00 -9.28270431e+00 -9.25613773e+00\n",
      " -9.22916680e+00 -9.20179267e+00 -9.17401651e+00 -9.14583953e+00\n",
      " -9.11726292e+00 -9.08828792e+00 -9.05891578e+00 -9.02914775e+00\n",
      " -8.99898511e+00 -8.96842916e+00 -8.93748122e+00 -8.90614261e+00\n",
      " -8.87441468e+00 -8.84229881e+00 -8.80979636e+00 -8.77690874e+00\n",
      " -8.74363737e+00 -8.70998368e+00 -8.67594911e+00 -8.64153514e+00\n",
      " -8.60674324e+00 -8.57157492e+00 -8.53603169e+00 -8.50011508e+00\n",
      " -8.46382664e+00 -8.42716793e+00 -8.39014054e+00 -8.35274606e+00\n",
      " -8.31498611e+00 -8.27686232e+00 -8.23837632e+00 -8.19952978e+00\n",
      " -8.16032438e+00 -8.12076181e+00 -8.08084377e+00 -8.04057199e+00\n",
      " -7.99994821e+00 -7.95897419e+00 -7.91765169e+00 -7.87598249e+00\n",
      " -7.83396840e+00 -7.79161123e+00 -7.74891282e+00 -7.70587500e+00\n",
      " -7.66249964e+00 -7.61878861e+00 -7.57474380e+00 -7.53036712e+00\n",
      " -7.48566049e+00 -7.44062583e+00 -7.39526509e+00 -7.34958024e+00\n",
      " -7.30357326e+00 -7.25724612e+00 -7.21060084e+00 -7.16363944e+00\n",
      " -7.11636394e+00 -7.06877640e+00 -7.02087886e+00 -6.97267341e+00\n",
      " -6.92416214e+00 -6.87534713e+00 -6.82623050e+00 -6.77681438e+00\n",
      " -6.72710092e+00 -6.67709225e+00 -6.62679056e+00 -6.57619801e+00\n",
      " -6.52531679e+00 -6.47414912e+00 -6.42269720e+00 -6.37096327e+00\n",
      " -6.31894957e+00 -6.26665835e+00 -6.21409187e+00 -6.16125242e+00\n",
      " -6.10814228e+00 -6.05476376e+00 -6.00111917e+00 -5.94721083e+00\n",
      " -5.89304109e+00 -5.83861228e+00 -5.78392678e+00 -5.72898694e+00\n",
      " -5.67379515e+00 -5.61835381e+00 -5.56266532e+00 -5.50673210e+00\n",
      " -5.45055656e+00 -5.39414115e+00 -5.33748832e+00 -5.28060051e+00\n",
      " -5.22348021e+00 -5.16612988e+00 -5.10855202e+00 -5.05074912e+00\n",
      " -4.99272369e+00 -4.93447825e+00 -4.87601533e+00 -4.81733747e+00\n",
      " -4.75844720e+00 -4.69934709e+00 -4.64003970e+00 -4.58052761e+00\n",
      " -4.52081340e+00 -4.46089966e+00 -4.40078900e+00 -4.34048401e+00\n",
      " -4.27998733e+00 -4.21930158e+00 -4.15842939e+00 -4.09737341e+00\n",
      " -4.03613629e+00 -3.97472068e+00 -3.91312927e+00 -3.85136471e+00\n",
      " -3.78942970e+00 -3.72732692e+00 -3.66505907e+00 -3.60262886e+00\n",
      " -3.54003900e+00 -3.47729222e+00 -3.41439122e+00 -3.35133876e+00\n",
      " -3.28813756e+00 -3.22479039e+00 -3.16129998e+00 -3.09766909e+00\n",
      " -3.03390050e+00 -2.96999698e+00 -2.90596130e+00 -2.84179625e+00\n",
      " -2.77750461e+00 -2.71308919e+00 -2.64855278e+00 -2.58389818e+00\n",
      " -2.51912821e+00 -2.45424569e+00 -2.38925344e+00 -2.32415428e+00\n",
      " -2.25895104e+00 -2.19364657e+00 -2.12824369e+00 -2.06274526e+00\n",
      " -1.99715412e+00 -1.93147313e+00 -1.86570514e+00 -1.79985302e+00\n",
      " -1.73391962e+00 -1.66790783e+00 -1.60182051e+00 -1.53566053e+00\n",
      " -1.46943077e+00 -1.40313413e+00 -1.33677347e+00 -1.27035170e+00\n",
      " -1.20387169e+00 -1.13733635e+00 -1.07074857e+00 -1.00411124e+00\n",
      " -9.37427277e-01 -8.70699571e-01 -8.03931031e-01 -7.37124563e-01\n",
      " -6.70283076e-01 -6.03409480e-01 -5.36506686e-01 -4.69577608e-01\n",
      " -4.02625160e-01 -3.35652257e-01 -2.68661815e-01 -2.01656752e-01\n",
      " -1.34639987e-01 -6.76144372e-02 -5.83022656e-04  6.64513372e-02\n",
      "  1.33485722e-01  2.00517213e-01  2.67542889e-01  3.34559831e-01\n",
      "  4.01565118e-01  4.68555832e-01  5.35529053e-01  6.02481865e-01\n",
      "  6.69411349e-01  7.36314588e-01  8.03188668e-01  8.70030675e-01\n",
      "  9.36837694e-01  1.00360681e+00  1.07033513e+00  1.13701972e+00\n",
      "  1.20365769e+00  1.27024614e+00  1.33678215e+00  1.40326283e+00\n",
      "  1.46968528e+00  1.53604660e+00  1.60234390e+00  1.66857430e+00\n",
      "  1.73473489e+00  1.80082280e+00  1.86683515e+00  1.93276905e+00\n",
      "  1.99862164e+00  2.06439003e+00  2.13007136e+00  2.19566277e+00\n",
      "  2.26116139e+00  2.32656437e+00  2.39186885e+00  2.45707199e+00\n",
      "  2.52217094e+00  2.58716286e+00  2.65204491e+00  2.71681426e+00\n",
      "  2.78146809e+00  2.84600358e+00  2.91041791e+00  2.97470826e+00\n",
      "  3.03887184e+00  3.10290584e+00  3.16680746e+00  3.23057393e+00\n",
      "  3.29420244e+00  3.35769024e+00  3.42103453e+00  3.48423257e+00\n",
      "  3.54728159e+00  3.61017883e+00  3.67292155e+00  3.73550702e+00\n",
      "  3.79793249e+00  3.86019524e+00  3.92229256e+00  3.98422172e+00\n",
      "  4.04598003e+00  4.10756479e+00  4.16897330e+00  4.23020289e+00\n",
      "  4.29125088e+00  4.35211460e+00  4.41279139e+00  4.47327861e+00\n",
      "  4.53357360e+00  4.59367374e+00  4.65357640e+00  4.71327895e+00\n",
      "  4.77277880e+00  4.83207334e+00  4.89115997e+00  4.95003612e+00\n",
      "  5.00869921e+00  5.06714667e+00  5.12537596e+00  5.18338452e+00\n",
      "  5.24116982e+00  5.29872933e+00  5.35606054e+00  5.41316093e+00\n",
      "  5.47002802e+00  5.52665930e+00  5.58305231e+00  5.63920459e+00\n",
      "  5.69511366e+00  5.75077709e+00  5.80619244e+00  5.86135728e+00\n",
      "  5.91626921e+00  5.97092582e+00  6.02532472e+00  6.07946352e+00\n",
      "  6.13333986e+00  6.18695137e+00  6.24029572e+00  6.29337057e+00\n",
      "  6.34617359e+00  6.39870247e+00  6.45095491e+00  6.50292862e+00\n",
      "  6.55462133e+00  6.60603077e+00  6.65715469e+00  6.70799085e+00\n",
      "  6.75853703e+00  6.80879100e+00  6.85875058e+00  6.90841356e+00\n",
      "  6.95777778e+00  7.00684107e+00  7.05560127e+00  7.10405626e+00\n",
      "  7.15220391e+00  7.20004210e+00  7.24756874e+00  7.29478175e+00\n",
      "  7.34167906e+00  7.38825860e+00  7.43451834e+00  7.48045625e+00\n",
      "  7.52607031e+00  7.57135853e+00  7.61631890e+00  7.66094947e+00\n",
      "  7.70524827e+00  7.74921336e+00  7.79284281e+00  7.83613471e+00\n",
      "  7.87908714e+00  7.92169824e+00  7.96396612e+00  8.00588893e+00\n",
      "  8.04746484e+00  8.08869200e+00  8.12956862e+00  8.17009290e+00\n",
      "  8.21026305e+00  8.25007731e+00  8.28953394e+00  8.32863119e+00\n",
      "  8.36736734e+00  8.40574071e+00  8.44374959e+00  8.48139231e+00\n",
      "  8.51866723e+00  8.55557270e+00  8.59210709e+00  8.62826880e+00\n",
      "  8.66405624e+00  8.69946784e+00  8.73450202e+00  8.76915726e+00\n",
      "  8.80343203e+00  8.83732481e+00  8.87083411e+00  8.90395845e+00\n",
      "  8.93669639e+00  8.96904647e+00  9.00100726e+00  9.03257736e+00\n",
      "  9.06375538e+00  9.09453994e+00  9.12492969e+00  9.15492327e+00\n",
      "  9.18451938e+00  9.21371669e+00  9.24251393e+00  9.27090982e+00\n",
      "  9.29890310e+00  9.32649254e+00  9.35367692e+00  9.38045505e+00\n",
      "  9.40682572e+00  9.43278778e+00  9.45834008e+00  9.48348149e+00\n",
      "  9.50821089e+00  9.53252720e+00  9.55642932e+00  9.57991621e+00\n",
      "  9.60298682e+00  9.62564013e+00  9.64787513e+00  9.66969084e+00\n",
      "  9.69108629e+00  9.71206052e+00  9.73261262e+00  9.75274165e+00\n",
      "  9.77244674e+00  9.79172699e+00  9.81058156e+00  9.82900959e+00\n",
      "  9.84701028e+00  9.86458282e+00  9.88172642e+00  9.89844032e+00\n",
      "  9.91472377e+00  9.93057605e+00  9.94599644e+00  9.96098426e+00\n",
      "  9.97553882e+00  9.98965949e+00  1.00033456e+01  1.00165966e+01\n",
      "  1.00294118e+01  1.00417908e+01  1.00537328e+01  1.00652374e+01\n",
      "  1.00763041e+01  1.00869323e+01  1.00971216e+01  1.01068715e+01\n",
      "  1.01161816e+01  1.01250515e+01  1.01334806e+01  1.01414688e+01\n",
      "  1.01490155e+01  1.01561204e+01  1.01627833e+01  1.01690037e+01\n",
      "  1.01747815e+01  1.01801163e+01  1.01850079e+01  1.01894560e+01\n",
      "  1.01934605e+01  1.01970212e+01  1.02001378e+01  1.02028102e+01\n",
      "  1.02050383e+01  1.02068220e+01  1.02081611e+01  1.02090556e+01\n",
      "  1.02095055e+01  1.02095107e+01  1.02090711e+01  1.02081868e+01\n",
      "  1.02068578e+01  1.02050841e+01  1.02028658e+01  1.02002030e+01\n",
      "  1.01970958e+01  1.01935442e+01  1.01895484e+01  1.01851087e+01\n",
      "  1.01802250e+01  1.01748977e+01  1.01691269e+01  1.01629130e+01\n",
      "  1.01562560e+01  1.01491564e+01  1.01416143e+01  1.01336302e+01\n",
      "  1.01252043e+01  1.01163369e+01  1.01070285e+01  1.00972795e+01\n",
      "  1.00870902e+01  1.00764610e+01  1.00653925e+01  1.00538850e+01\n",
      "  1.00419391e+01  1.00295552e+01  1.00167339e+01  1.00034757e+01\n",
      "  9.98978116e+00  9.97565089e+00  9.96108546e+00  9.94608550e+00\n",
      "  9.93065163e+00  9.91478451e+00  9.89848481e+00  9.88175322e+00\n",
      "  9.86459045e+00  9.84699723e+00  9.82897432e+00  9.81052246e+00\n",
      "  9.79164246e+00  9.77233511e+00  9.75260124e+00  9.73244168e+00]\n"
     ]
    }
   ],
   "source": [
    "print (theta)"
   ]
  },
  {
   "cell_type": "code",
   "execution_count": 78,
   "metadata": {},
   "outputs": [
    {
     "name": "stdout",
     "output_type": "stream",
     "text": [
      "<type 'int'>\n"
     ]
    }
   ],
   "source": [
    "print (type(i))"
   ]
  },
  {
   "cell_type": "code",
   "execution_count": 64,
   "metadata": {},
   "outputs": [
    {
     "name": "stdout",
     "output_type": "stream",
     "text": [
      "<type 'numpy.ndarray'>\n"
     ]
    }
   ],
   "source": [
    "print (type(theta))"
   ]
  },
  {
   "cell_type": "code",
   "execution_count": 90,
   "metadata": {},
   "outputs": [
    {
     "data": {
      "text/plain": [
       "[<matplotlib.lines.Line2D at 0xaee0710>]"
      ]
     },
     "execution_count": 90,
     "metadata": {},
     "output_type": "execute_result"
    },
    {
     "data": {
      "image/png": "[encoded data removed]",
      "text/plain": [
       "<Figure size 432x288 with 1 Axes>"
      ]
     },
     "metadata": {
      "needs_background": "light"
     },
     "output_type": "display_data"
    }
   ],
   "source": [
    "plt.plot(i+1)"
   ]
  },
  {
   "cell_type": "code",
   "execution_count": null,
   "metadata": {},
   "outputs": [],
   "source": []
  }
 ],
 "metadata": {
  "kernelspec": {
   "display_name": "Python 2",
   "language": "python",
   "name": "python2"
  },
  "language_info": {
   "codemirror_mode": {
    "name": "ipython",
    "version": 2
   },
   "file_extension": ".py",
   "mimetype": "text/x-python",
   "name": "python",
   "nbconvert_exporter": "python",
   "pygments_lexer": "ipython2",
   "version": "2.7.15"
  }
 },
 "nbformat": 4,
 "nbformat_minor": 2
}
